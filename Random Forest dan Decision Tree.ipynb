{
 "cells": [
  {
   "cell_type": "code",
   "execution_count": 1,
   "metadata": {},
   "outputs": [
    {
     "name": "stdout",
     "output_type": "stream",
     "text": [
      "Keseluruhan dataset yang bukan malware: 41323 samples, 56 features\n",
      "Keseluruhan dataset yang malware: 96724 samples, 56 features\n"
     ]
    }
   ],
   "source": [
    "import pandas as pd\n",
    "\n",
    "dataset = pd.read_csv(\"MalwareData.csv\", sep=\"|\")\n",
    "legit = dataset[0:41323].drop([\"legitimate\"], axis=1)\n",
    "malware = dataset[41323::].drop([\"legitimate\"], axis=1)\n",
    "\n",
    "print(\"Keseluruhan dataset yang bukan malware: %s samples, %s features\"%(legit.shape[0],legit.shape[1]))\n",
    "print(\"Keseluruhan dataset yang malware: %s samples, %s features\"%(malware.shape[0],malware.shape[1]))"
   ]
  },
  {
   "cell_type": "code",
   "execution_count": 2,
   "metadata": {},
   "outputs": [],
   "source": [
    "pd.set_option(\"display.max_columns\", None)"
   ]
  },
  {
   "cell_type": "code",
   "execution_count": 3,
   "metadata": {},
   "outputs": [
    {
     "name": "stdout",
     "output_type": "stream",
     "text": [
      "           Name                               md5  Machine  \\\n",
      "0   memtest.exe  631ea355665f28d4707448e442fbf5b8      332   \n",
      "1       ose.exe  9d10f99a6712e28f8acd5641e3a7ea6b      332   \n",
      "2     setup.exe  4d92f518527353c0db88a70fddcfd390      332   \n",
      "3      DW20.EXE  a41e524f8d45f0074fd07805ff0c9b12      332   \n",
      "4  dwtrig20.exe  c87e561258f2f8650cef999bf643a731      332   \n",
      "\n",
      "   SizeOfOptionalHeader  Characteristics  MajorLinkerVersion  \\\n",
      "0                   224              258                   9   \n",
      "1                   224             3330                   9   \n",
      "2                   224             3330                   9   \n",
      "3                   224              258                   9   \n",
      "4                   224              258                   9   \n",
      "\n",
      "   MinorLinkerVersion  SizeOfCode  SizeOfInitializedData  \\\n",
      "0                   0      361984                 115712   \n",
      "1                   0      130560                  19968   \n",
      "2                   0      517120                 621568   \n",
      "3                   0      585728                 369152   \n",
      "4                   0      294912                 247296   \n",
      "\n",
      "   SizeOfUninitializedData  AddressOfEntryPoint  BaseOfCode  BaseOfData  \\\n",
      "0                        0                 6135        4096      372736   \n",
      "1                        0                81778        4096      143360   \n",
      "2                        0               350896        4096      811008   \n",
      "3                        0               451258        4096      798720   \n",
      "4                        0               217381        4096      536576   \n",
      "\n",
      "     ImageBase  SectionAlignment  FileAlignment  MajorOperatingSystemVersion  \\\n",
      "0    4194304.0              4096            512                            0   \n",
      "1  771751936.0              4096            512                            5   \n",
      "2  771751936.0              4096            512                            5   \n",
      "3  771751936.0              4096            512                            5   \n",
      "4  771751936.0              4096            512                            5   \n",
      "\n",
      "   MinorOperatingSystemVersion  MajorImageVersion  MinorImageVersion  \\\n",
      "0                            0                  0                  0   \n",
      "1                            1                  0                  0   \n",
      "2                            1                  0                  0   \n",
      "3                            1                  0                  0   \n",
      "4                            1                  0                  0   \n",
      "\n",
      "   MajorSubsystemVersion  MinorSubsystemVersion  SizeOfImage  SizeOfHeaders  \\\n",
      "0                      1                      0      1036288           1024   \n",
      "1                      5                      1       159744           1024   \n",
      "2                      5                      1      1150976           1024   \n",
      "3                      5                      1       962560           1024   \n",
      "4                      5                      1       552960           1024   \n",
      "\n",
      "   CheckSum  Subsystem  DllCharacteristics  SizeOfStackReserve  \\\n",
      "0    485887         16                1024             1048576   \n",
      "1    188943          2               33088             1048576   \n",
      "2   1159817          2               32832             1048576   \n",
      "3    867570          2               33088             1048576   \n",
      "4    579287          2               33088             1048576   \n",
      "\n",
      "   SizeOfStackCommit  SizeOfHeapReserve  SizeOfHeapCommit  LoaderFlags  \\\n",
      "0               4096            1048576              4096            0   \n",
      "1               4096            1048576              4096            0   \n",
      "2               4096            1048576              4096            0   \n",
      "3               4096            1048576              4096            0   \n",
      "4               4096            1048576              4096            0   \n",
      "\n",
      "   NumberOfRvaAndSizes  SectionsNb  SectionsMeanEntropy  SectionsMinEntropy  \\\n",
      "0                   16           8             5.766807            3.607430   \n",
      "1                   16           4             4.839688            2.373525   \n",
      "2                   16           4             6.409558            4.885191   \n",
      "3                   16           4             6.641731            5.642565   \n",
      "4                   16           4             6.252684            4.182282   \n",
      "\n",
      "   SectionsMaxEntropy  SectionsMeanRawsize  SectionsMinRawsize  \\\n",
      "0            7.221051              59712.0                1024   \n",
      "1            6.566909              35584.0                2048   \n",
      "2            7.600957             273408.0               21504   \n",
      "3            7.594929             207872.0               15360   \n",
      "4            7.608305             128128.0                2560   \n",
      "\n",
      "   SectionMaxRawsize  SectionsMeanVirtualsize  SectionsMinVirtualsize  \\\n",
      "0             325120               126875.875                     896   \n",
      "1             130560                37322.000                    1840   \n",
      "2             517120               284498.000                   21456   \n",
      "3             585728               238502.000                   15208   \n",
      "4             294912               135350.000                    2320   \n",
      "\n",
      "   SectionMaxVirtualsize  ImportsNbDLL  ImportsNb  ImportsNbOrdinal  ExportNb  \\\n",
      "0                 551848             0          0                 0         0   \n",
      "1                 130296             7        181                 0         0   \n",
      "2                 516760            14        235                21         1   \n",
      "3                 585488            15        360                 6         1   \n",
      "4                 294816            10        194                 4         1   \n",
      "\n",
      "   ResourcesNb  ResourcesMeanEntropy  ResourcesMinEntropy  \\\n",
      "0            4              3.262823             2.568844   \n",
      "1            2              4.250461             3.420744   \n",
      "2           11              4.426324             2.846449   \n",
      "3           10              4.364291             2.669314   \n",
      "4            2              4.306100             3.421598   \n",
      "\n",
      "   ResourcesMaxEntropy  ResourcesMeanSize  ResourcesMinSize  ResourcesMaxSize  \\\n",
      "0             3.537939        8797.000000               216             18032   \n",
      "1             5.080177         837.000000               518              1156   \n",
      "2             5.271813       31102.272727               104            270376   \n",
      "3             6.400720        1457.000000                90              4264   \n",
      "4             5.190603        1074.500000               849              1300   \n",
      "\n",
      "   LoadConfigurationSize  VersionInformationSize  legitimate  \n",
      "0                      0                      16           1  \n",
      "1                     72                      18           1  \n",
      "2                     72                      18           1  \n",
      "3                     72                      18           1  \n",
      "4                     72                      18           1  \n"
     ]
    }
   ],
   "source": [
    "print(dataset.head(5))"
   ]
  },
  {
   "cell_type": "code",
   "execution_count": 5,
   "metadata": {},
   "outputs": [],
   "source": [
    "from sklearn.ensemble import ExtraTreesClassifier\n",
    "from sklearn.feature_selection import SelectFromModel\n",
    "from sklearn.model_selection import train_test_split\n",
    "from sklearn.model_selection import cross_validate"
   ]
  },
  {
   "cell_type": "code",
   "execution_count": 6,
   "metadata": {},
   "outputs": [
    {
     "name": "stdout",
     "output_type": "stream",
     "text": [
      "(138047, 54) (138047, 13)\n"
     ]
    }
   ],
   "source": [
    "data_in = dataset.drop(['Name', 'md5', 'legitimate'], axis=1).values\n",
    "labels = dataset['legitimate'].values\n",
    "extratree = ExtraTreesClassifier().fit(data_in,labels)\n",
    "select = SelectFromModel(extratree,prefit=True)\n",
    "data_in_new = select.transform(data_in)\n",
    "print(data_in.shape,data_in_new.shape)"
   ]
  },
  {
   "cell_type": "code",
   "execution_count": 7,
   "metadata": {},
   "outputs": [
    {
     "name": "stdout",
     "output_type": "stream",
     "text": [
      "1 DllCharacteristics 0.1647168705092954\n",
      "2 Machine 0.09510621811707166\n",
      "3 Characteristics 0.08344847799000482\n",
      "4 Subsystem 0.06592151133879208\n",
      "5 SectionsMaxEntropy 0.05884342159126579\n",
      "6 MajorSubsystemVersion 0.057626228313038465\n",
      "7 ImageBase 0.057364230676831135\n",
      "8 ResourcesMaxEntropy 0.052708998195569415\n",
      "9 VersionInformationSize 0.05158199368987126\n",
      "10 SizeOfOptionalHeader 0.04573894063354777\n",
      "11 ResourcesMinEntropy 0.029350220584065227\n",
      "12 MajorOperatingSystemVersion 0.027640806219715416\n",
      "13 SectionsMinEntropy 0.026605546803038508\n"
     ]
    }
   ],
   "source": [
    "import numpy as np\n",
    "features = data_in_new.shape[1]\n",
    "importances = extratree.feature_importances_\n",
    "indices = np.argsort(importances)[::-1]\n",
    "\n",
    "for f in range(features):\n",
    "    print(\"%d\"%(f+1),dataset.columns[2+indices[f]],importances[indices[f]])"
   ]
  },
  {
   "cell_type": "code",
   "execution_count": 9,
   "metadata": {},
   "outputs": [
    {
     "data": {
      "text/plain": [
       "RandomForestClassifier(n_estimators=50)"
      ]
     },
     "execution_count": 9,
     "metadata": {},
     "output_type": "execute_result"
    }
   ],
   "source": [
    "from sklearn.ensemble import RandomForestClassifier\n",
    "\n",
    "legit_train, legit_test, malware_train, malware_test = train_test_split(data_in_new, labels, test_size=0.2)\n",
    "classif = RandomForestClassifier(n_estimators=50)\n",
    "\n",
    "classif.fit(legit_train,malware_train)"
   ]
  },
  {
   "cell_type": "code",
   "execution_count": 10,
   "metadata": {},
   "outputs": [
    {
     "name": "stdout",
     "output_type": "stream",
     "text": [
      "Nilai akurasi algoritma random forest:  99.42774357116987\n"
     ]
    }
   ],
   "source": [
    "print(\"Nilai akurasi algoritma random forest: \",classif.score(legit_test,malware_test)*100)"
   ]
  },
  {
   "cell_type": "code",
   "execution_count": 11,
   "metadata": {},
   "outputs": [
    {
     "data": {
      "text/plain": [
       "DecisionTreeClassifier()"
      ]
     },
     "execution_count": 11,
     "metadata": {},
     "output_type": "execute_result"
    }
   ],
   "source": [
    "from sklearn.tree import DecisionTreeClassifier\n",
    "\n",
    "legit_train, legit_test, malware_train, malware_test = train_test_split(data_in_new, labels, test_size=0.2)\n",
    "decisionif = DecisionTreeClassifier()\n",
    "\n",
    "decisionif.fit(legit_train,malware_train)"
   ]
  },
  {
   "cell_type": "code",
   "execution_count": 12,
   "metadata": {},
   "outputs": [
    {
     "name": "stdout",
     "output_type": "stream",
     "text": [
      "Nilai akurasi algoritma decision tree:  99.12350597609561\n"
     ]
    }
   ],
   "source": [
    "print(\"Nilai akurasi algoritma decision tree: \",decisionif.score(legit_test,malware_test)*100)"
   ]
  },
  {
   "cell_type": "code",
   "execution_count": null,
   "metadata": {},
   "outputs": [],
   "source": []
  }
 ],
 "metadata": {
  "kernelspec": {
   "display_name": "Python 3",
   "language": "python",
   "name": "python3"
  },
  "language_info": {
   "codemirror_mode": {
    "name": "ipython",
    "version": 3
   },
   "file_extension": ".py",
   "mimetype": "text/x-python",
   "name": "python",
   "nbconvert_exporter": "python",
   "pygments_lexer": "ipython3",
   "version": "3.8.3"
  }
 },
 "nbformat": 4,
 "nbformat_minor": 4
}
